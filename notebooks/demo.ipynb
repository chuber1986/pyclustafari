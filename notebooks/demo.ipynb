{
 "cells": [
  {
   "cell_type": "markdown",
   "id": "0",
   "metadata": {},
   "source": [
    "# PyClustafari Demonstrator"
   ]
  },
  {
   "cell_type": "markdown",
   "id": "1",
   "metadata": {},
   "source": [
    "## Imports"
   ]
  },
  {
   "cell_type": "code",
   "execution_count": null,
   "id": "2",
   "metadata": {},
   "outputs": [],
   "source": [
    "import time\n",
    "import matplotlib.pyplot as plt\n",
    "import numpy as np\n",
    "\n",
    "from sklearn.neural_network import MLPClassifier\n",
    "from sklearn.datasets import make_classification\n",
    "from sklearn.model_selection import train_test_split"
   ]
  },
  {
   "cell_type": "markdown",
   "id": "3",
   "metadata": {},
   "source": [
    "## Preperations"
   ]
  },
  {
   "cell_type": "code",
   "execution_count": null,
   "id": "4",
   "metadata": {},
   "outputs": [],
   "source": [
    "n_samples = 10000\n",
    "\n",
    "X, y = make_classification(\n",
    "    n_samples=n_samples,\n",
    "    n_features=2,\n",
    "    n_repeated=0,\n",
    "    n_redundant=0,\n",
    "    n_classes=4,\n",
    "    n_clusters_per_class=1,\n",
    "    random_state=42,\n",
    ")\n",
    "X_train, X_test, y_train, y_test = train_test_split(\n",
    "    X, y, stratify=y, test_size=0.2, random_state=42\n",
    ")"
   ]
  },
  {
   "cell_type": "code",
   "execution_count": null,
   "id": "5",
   "metadata": {},
   "outputs": [],
   "source": [
    "from clustafari import wrap_non_picklable_objects\n",
    "\n",
    "\n",
    "@wrap_non_picklable_objects\n",
    "def train(solver, learning_rate_init=0.001):\n",
    "    mlp = MLPClassifier(\n",
    "        solver=solver,\n",
    "        learning_rate_init=learning_rate_init,\n",
    "        hidden_layer_sizes=(100,),\n",
    "        max_iter=5000,\n",
    "        random_state=1,\n",
    "    )\n",
    "    mlp.fit(X_train, y_train)\n",
    "\n",
    "    acc = mlp.score(X_test, y_test)\n",
    "    p = mlp.predict_proba(X_test)\n",
    "    y_ = mlp.predict(X_test)\n",
    "\n",
    "    return p, y_, acc\n",
    "\n",
    "\n",
    "def plot_data(data, cls, ax=None):\n",
    "    if ax is None:\n",
    "        _, ax = plt.subplots()\n",
    "\n",
    "    sc = ax.scatter(x=data[:, 0], y=data[:, 1], c=cls, s=1, label=y)\n",
    "\n",
    "    labels, counts = np.unique(cls, return_counts=True)\n",
    "    labels = [f\"{l}: {c}\" for l, c in zip(labels, counts)]\n",
    "    ax.legend(sc.legend_elements()[0], labels, title=\"Classes\")\n",
    "\n",
    "    return ax\n",
    "\n",
    "\n",
    "def plot_results(p, y_, acc, ax=None):\n",
    "    if ax is None:\n",
    "        _, ax = plt.subplots()\n",
    "\n",
    "    ax.set_title(f\"Accuracy: {acc:.3f}\")\n",
    "\n",
    "    bins = 100\n",
    "    for i in range(4):\n",
    "        _, bins, _ = ax.hist(p[i].flatten(), label=i, bins=bins, alpha=0.6)\n",
    "\n",
    "    labels, counts = np.unique(y_, return_counts=True)\n",
    "    ax.legend(labels=[f\"{l}: {c}\" for l, c in zip(labels, counts)])\n",
    "\n",
    "    return ax"
   ]
  },
  {
   "cell_type": "code",
   "execution_count": null,
   "id": "6",
   "metadata": {},
   "outputs": [],
   "source": [
    "fig, (ax1, ax2) = plt.subplots(ncols=2, figsize=(15, 6))\n",
    "plot_data(X_train, y_train, ax1)\n",
    "plot_data(X_test, y_test, ax2);"
   ]
  },
  {
   "cell_type": "markdown",
   "id": "7",
   "metadata": {},
   "source": [
    "## Baseline"
   ]
  },
  {
   "cell_type": "code",
   "execution_count": null,
   "id": "8",
   "metadata": {},
   "outputs": [],
   "source": [
    "tick = time.monotonic_ns()\n",
    "res = train(\"adam\")\n",
    "tock = time.monotonic_ns()\n",
    "\n",
    "print(f\"Duration: {(tock - tick) / 1e9}s\")\n",
    "plot_results(*res);"
   ]
  },
  {
   "cell_type": "markdown",
   "id": "9",
   "metadata": {},
   "source": [
    "## DummyRunner Example"
   ]
  },
  {
   "cell_type": "code",
   "execution_count": null,
   "id": "10",
   "metadata": {},
   "outputs": [],
   "source": [
    "from clustafari import DummyConfig\n",
    "\n",
    "tick = time.monotonic_ns()\n",
    "\n",
    "cfg = DummyConfig()\n",
    "runner = cfg.runner\n",
    "res = runner.apply(train, \"adam\")\n",
    "\n",
    "tock = time.monotonic_ns()\n",
    "\n",
    "print(f\"Duration: {(tock - tick) / 1e9}s\")\n",
    "plot_results(*res);"
   ]
  },
  {
   "cell_type": "code",
   "execution_count": null,
   "id": "11",
   "metadata": {},
   "outputs": [],
   "source": [
    "from clustafari import DummyConfig, delayed\n",
    "\n",
    "delayed_function = delayed(train)(\"adam\")\n",
    "\n",
    "tick = time.monotonic_ns()\n",
    "\n",
    "cfg = DummyConfig()\n",
    "runner = cfg.runner\n",
    "res = runner.apply(delayed_function)\n",
    "\n",
    "tock = time.monotonic_ns()\n",
    "\n",
    "print(f\"Duration: {(tock - tick) / 1e9}s\")\n",
    "plot_results(*res);"
   ]
  },
  {
   "cell_type": "code",
   "execution_count": null,
   "id": "12",
   "metadata": {},
   "outputs": [],
   "source": [
    "from clustafari import DummyConfig, delayed\n",
    "\n",
    "\n",
    "@delayed\n",
    "def custom_fn(solver):\n",
    "    return train(solver, learning_rate_init=0.01)\n",
    "\n",
    "\n",
    "delayed_function = custom_fn(\"adam\")\n",
    "\n",
    "tick = time.monotonic_ns()\n",
    "\n",
    "cfg = DummyConfig()\n",
    "runner = cfg.runner\n",
    "res = runner.apply(delayed_function)\n",
    "\n",
    "tock = time.monotonic_ns()\n",
    "\n",
    "print(f\"Duration: {(tock - tick) / 1e9}s\")\n",
    "plot_results(*res);"
   ]
  },
  {
   "cell_type": "code",
   "execution_count": null,
   "id": "13",
   "metadata": {},
   "outputs": [],
   "source": [
    "from clustafari import DummyConfig, ClusterContext\n",
    "\n",
    "tick = time.monotonic_ns()\n",
    "\n",
    "with ClusterContext(DummyConfig()) as ctx:\n",
    "    res = ctx.apply(train, \"adam\")\n",
    "\n",
    "tock = time.monotonic_ns()\n",
    "\n",
    "print(f\"Duration: {(tock - tick) / 1e9}s\")\n",
    "plot_results(*res);"
   ]
  },
  {
   "cell_type": "markdown",
   "id": "14",
   "metadata": {},
   "source": [
    "## Subprocess Example"
   ]
  },
  {
   "cell_type": "code",
   "execution_count": null,
   "id": "15",
   "metadata": {},
   "outputs": [],
   "source": [
    "from clustafari import SubprocessConfig, ClusterContext\n",
    "\n",
    "tick = time.monotonic_ns()\n",
    "\n",
    "with ClusterContext(SubprocessConfig()) as ctx:\n",
    "    res = ctx.apply(train, \"adam\")\n",
    "\n",
    "tock = time.monotonic_ns()\n",
    "\n",
    "print(f\"Duration: {(tock - tick) / 1e9}s\")\n",
    "plot_results(*res);"
   ]
  },
  {
   "cell_type": "markdown",
   "id": "16",
   "metadata": {},
   "source": [
    "## Slurm Example"
   ]
  },
  {
   "cell_type": "code",
   "execution_count": null,
   "id": "17",
   "metadata": {},
   "outputs": [],
   "source": [
    "from clustafari import SlurmConfig, ClusterContext\n",
    "\n",
    "tick = time.monotonic_ns()\n",
    "\n",
    "with ClusterContext(SlurmConfig()) as ctx:\n",
    "    res = ctx.apply(train, \"adam\")\n",
    "\n",
    "tock = time.monotonic_ns()\n",
    "\n",
    "print(f\"Duration: {(tock - tick) / 1e9}s\")\n",
    "plot_results(*res);"
   ]
  },
  {
   "cell_type": "markdown",
   "id": "18",
   "metadata": {},
   "source": [
    "## Fit only"
   ]
  },
  {
   "cell_type": "code",
   "execution_count": null,
   "id": "19",
   "metadata": {},
   "outputs": [],
   "source": [
    "from clustafari import SlurmConfig, ClusterContext\n",
    "\n",
    "clf = MLPClassifier(\n",
    "    solver=\"adam\",\n",
    "    learning_rate_init=0.003,\n",
    "    hidden_layer_sizes=(100,),\n",
    "    max_iter=5000,\n",
    "    random_state=1,\n",
    ")\n",
    "\n",
    "tick = time.monotonic_ns()\n",
    "\n",
    "with ClusterContext(SlurmConfig()) as ctx:\n",
    "    clf, _ = ctx.apply(clf.fit, X_train, y_train, return_object=True)\n",
    "\n",
    "tock = time.monotonic_ns()\n",
    "\n",
    "print(f\"Duration: {(tock - tick) / 1e9}s\")\n",
    "\n",
    "score = clf.score(X_test, y_test)\n",
    "prop = clf.predict_proba(X_test)\n",
    "pred = clf.predict(X_test)\n",
    "\n",
    "plot_results(prop, pred, score);"
   ]
  },
  {
   "cell_type": "markdown",
   "id": "20",
   "metadata": {},
   "source": [
    "## Mapping"
   ]
  },
  {
   "cell_type": "code",
   "execution_count": null,
   "id": "21",
   "metadata": {},
   "outputs": [],
   "source": [
    "from clustafari import SlurmConfig, ClusterContext\n",
    "\n",
    "tick = time.monotonic_ns()\n",
    "\n",
    "with ClusterContext(SlurmConfig()) as ctx:\n",
    "    res = ctx.map(\n",
    "        train,\n",
    "        args=[[\"adam\"], [\"sgd\"]],\n",
    "        kwargs=[dict(learning_rate_init=0.01), dict(learning_rate_init=0.001)],\n",
    "    )\n",
    "\n",
    "tock = time.monotonic_ns()\n",
    "\n",
    "print(f\"Duration: {(tock - tick) / 1e9}s\")\n",
    "[plot_results(*r) for r in res];"
   ]
  },
  {
   "cell_type": "markdown",
   "id": "22",
   "metadata": {},
   "source": [
    "## Async"
   ]
  },
  {
   "cell_type": "code",
   "execution_count": null,
   "id": "23",
   "metadata": {},
   "outputs": [],
   "source": [
    "from clustafari import SlurmConfig, ClusterContext\n",
    "\n",
    "tick = time.monotonic_ns()\n",
    "\n",
    "with ClusterContext(SlurmConfig()) as ctx:\n",
    "    run = ctx.apply_async(train, \"adam\")\n",
    "\n",
    "tock = time.monotonic_ns()\n",
    "print(f\"Duration: {(tock - tick) / 1e9}s\")"
   ]
  },
  {
   "cell_type": "code",
   "execution_count": null,
   "id": "24",
   "metadata": {},
   "outputs": [],
   "source": [
    "f\"Do stuff: {1234 * 1243}\"\n",
    "\n",
    "tock = time.monotonic_ns()\n",
    "print(f\"Duration: {(tock - tick) / 1e9}s\")"
   ]
  },
  {
   "cell_type": "code",
   "execution_count": null,
   "id": "25",
   "metadata": {},
   "outputs": [],
   "source": [
    "from clustafari.exceptions import RunnableStateError, TimeoutException\n",
    "\n",
    "try:\n",
    "    res = run.get()\n",
    "    plot_results(*res)\n",
    "except (RunnableStateError, TimeoutException) as e:\n",
    "    print(e)"
   ]
  },
  {
   "cell_type": "code",
   "execution_count": null,
   "id": "26",
   "metadata": {},
   "outputs": [],
   "source": [
    "res = run.get(blocking=True)\n",
    "plot_results(*res)\n",
    "\n",
    "tock = time.monotonic_ns()\n",
    "print(f\"Duration: {(tock - tick) / 1e9}s\")"
   ]
  },
  {
   "cell_type": "markdown",
   "id": "27",
   "metadata": {},
   "source": [
    "## Map async"
   ]
  },
  {
   "cell_type": "code",
   "execution_count": null,
   "id": "28",
   "metadata": {},
   "outputs": [],
   "source": [
    "from clustafari import SlurmConfig, ClusterContext\n",
    "\n",
    "tick = time.monotonic_ns()\n",
    "\n",
    "with ClusterContext(SlurmConfig()) as ctx:\n",
    "    runs = ctx.map_async(\n",
    "        train,\n",
    "        args=[[\"adam\"], [\"sgd\"]],\n",
    "        kwargs=[dict(learning_rate_init=0.01), dict(learning_rate_init=0.001)],\n",
    "    )\n",
    "\n",
    "tock = time.monotonic_ns()\n",
    "print(f\"Duration: {(tock - tick) / 1e9}s\")"
   ]
  },
  {
   "cell_type": "code",
   "execution_count": null,
   "id": "29",
   "metadata": {},
   "outputs": [],
   "source": [
    "print(f\"Do stuff: {1234 * 1243}\")\n",
    "\n",
    "tock = time.monotonic_ns()\n",
    "print(f\"Duration: {(tock - tick) / 1e9}s\")"
   ]
  },
  {
   "cell_type": "code",
   "execution_count": null,
   "id": "30",
   "metadata": {},
   "outputs": [],
   "source": [
    "from clustafari.exceptions import RunnableStateError, TimeoutException\n",
    "\n",
    "try:\n",
    "    res = [run.get() for run in runs]\n",
    "    for r in res:\n",
    "        plot_results(*r)\n",
    "except (RunnableStateError, TimeoutException) as e:\n",
    "    print(e)"
   ]
  },
  {
   "cell_type": "code",
   "execution_count": null,
   "id": "31",
   "metadata": {},
   "outputs": [],
   "source": [
    "res = [run.get(blocking=True) for run in runs]\n",
    "for r in res:\n",
    "    plot_results(*r)\n",
    "\n",
    "tock = time.monotonic_ns()\n",
    "print(f\"Duration: {(tock - tick) / 1e9}s\")"
   ]
  },
  {
   "cell_type": "markdown",
   "id": "32",
   "metadata": {},
   "source": [
    "## Config"
   ]
  },
  {
   "cell_type": "code",
   "execution_count": null,
   "id": "33",
   "metadata": {},
   "outputs": [],
   "source": [
    "from clustafari import SlurmConfig\n",
    "\n",
    "SlurmConfig.get_config_names()"
   ]
  },
  {
   "cell_type": "code",
   "execution_count": null,
   "id": "34",
   "metadata": {},
   "outputs": [],
   "source": [
    "cfg1 = SlurmConfig.get_config(\"CFG_CPU4_MEM8G_GPU2S\")\n",
    "cfg2 = SlurmConfig.CFG_CPU1_MEM8G\n",
    "cfg3 = SlurmConfig.create_config(\n",
    "    mem_per_node=\"4G\",\n",
    "    mem_per_cpu=None,\n",
    "    mem_per_gpu=None,\n",
    "    cpu_per_task=2,\n",
    "    cpu_per_gpu=None,\n",
    "    required_nodes=None,\n",
    "    excluded_nodes=None,\n",
    "    partition=None,\n",
    "    generic_resource=\"shard:1\",\n",
    "    n_tasks=None,\n",
    "    n_tasks_per_node=None,\n",
    "    n_tasks_per_gpu=None,\n",
    "    gpus=None,\n",
    "    gpus_per_task=None,\n",
    "    gpus_per_node=None,\n",
    ")\n",
    "\n",
    "cfg1, cfg2, cfg2"
   ]
  },
  {
   "cell_type": "code",
   "execution_count": null,
   "id": "35",
   "metadata": {},
   "outputs": [],
   "source": [
    "from clustafari import ClusterContext, SlurmConfig\n",
    "from clustafari.resources import CPUPerTaskResource, MemoryPerNodeResource\n",
    "\n",
    "cfg = SlurmConfig(\n",
    "    CPUPerTaskResource(3),\n",
    "    MemoryPerNodeResource(\"512M\"),\n",
    ")\n",
    "\n",
    "tick = time.monotonic_ns()\n",
    "\n",
    "with ClusterContext(cfg) as ctx:\n",
    "    res = ctx.apply(train, \"adam\")\n",
    "\n",
    "tock = time.monotonic_ns()\n",
    "\n",
    "print(f\"Duration: {(tock - tick) / 1e9}s\")\n",
    "plot_results(*res);"
   ]
  }
 ],
 "metadata": {
  "kernelspec": {
   "display_name": "Python 3",
   "language": "python",
   "name": "python3"
  },
  "language_info": {
   "codemirror_mode": {
    "name": "ipython",
    "version": 2
   },
   "file_extension": ".py",
   "mimetype": "text/x-python",
   "name": "python",
   "nbconvert_exporter": "python",
   "pygments_lexer": "ipython2",
   "version": "2.7.6"
  }
 },
 "nbformat": 4,
 "nbformat_minor": 5
}
